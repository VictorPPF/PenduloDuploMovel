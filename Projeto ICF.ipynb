{
 "cells": [
  {
   "cell_type": "code",
   "execution_count": 1,
   "id": "5d3d6486",
   "metadata": {},
   "outputs": [],
   "source": [
    "import sympy as sy\n",
    "import numpy as np\n",
    "import matplotlib.pyplot as plt"
   ]
  },
  {
   "cell_type": "code",
   "execution_count": 2,
   "id": "17ac7436",
   "metadata": {},
   "outputs": [],
   "source": [
    "t, g = sy.symbols('t g')\n",
    "m1, m2, m3 = sy.symbols('m_1 m_2 m_3')\n",
    "l1, l2 = sy.symbols('L_1 L_2')\n",
    "theta, phi, x = sy.symbols('theta phi x', cls=sy.Function)\n",
    "th = theta(t)\n",
    "ph = phi(t)\n",
    "xt = x(t)"
   ]
  },
  {
   "cell_type": "code",
   "execution_count": 3,
   "id": "10bbf404",
   "metadata": {},
   "outputs": [],
   "source": [
    "thdiff = sy.diff(th, t)\n",
    "phdiff = sy.diff(ph, t)\n",
    "thdiff_2 = sy.diff(thdiff, t)\n",
    "phdiff_2 = sy.diff(phdiff, t)\n",
    "xdiff = sy.diff(xt, t)\n",
    "xdiff_2 = sy.diff(xdiff, t)"
   ]
  },
  {
   "cell_type": "code",
   "execution_count": 4,
   "id": "bd8ae694",
   "metadata": {},
   "outputs": [],
   "source": [
    "#Equações de posição\n",
    "x1 = xt\n",
    "x2 = xt + l1*sy.sin(th)\n",
    "y2 = -l1*sy.cos(th)\n",
    "x3 = x2 + l2*sy.sin(ph)\n",
    "y3 = y2 - l2*sy.cos(ph)"
   ]
  },
  {
   "cell_type": "code",
   "execution_count": 5,
   "id": "fe4b6a76",
   "metadata": {},
   "outputs": [],
   "source": [
    "#Energia Cinética\n",
    "T1 = 1/2 * m1 * sy.diff(x1, t)**2\n",
    "T2 = 1/2 * m2 * (sy.diff(x2, t)**2 + sy.diff(y2, t)**2)\n",
    "T3 = 1/2 * m3 * (sy.diff(x3, t)**2 + sy.diff(y3, t)**2)\n",
    "T = T1 + T2 + T3\n",
    "#Energia Potencial\n",
    "U1 = m2 * g * y2\n",
    "U2 = m3 * g * y3\n",
    "U = U1 + U2\n",
    "#Lagrangian\n",
    "L = T - U\n"
   ]
  },
  {
   "cell_type": "code",
   "execution_count": 6,
   "id": "71a09e45",
   "metadata": {},
   "outputs": [],
   "source": [
    "Leq1 = sy.Eq(sy.diff(L, xt) - sy.diff(sy.diff(L, xdiff), t).simplify(),0)\n",
    "Leq2 = sy.Eq(sy.diff(L, th) - sy.diff(sy.diff(L, thdiff), t).simplify(),0)\n",
    "Leq3 = sy.Eq(sy.diff(L, ph) - sy.diff(sy.diff(L, phdiff), t).simplify(),0) \n",
    "eqx = sy.solve(Leq1,xdiff_2)[0]\n",
    "eqtheta = sy.solve(Leq2,thdiff_2)[0]\n",
    "eqphi = sy.solve(Leq3,phdiff_2)[0]"
   ]
  },
  {
   "cell_type": "code",
   "execution_count": 7,
   "id": "d18b2db5",
   "metadata": {},
   "outputs": [
    {
     "data": {
      "text/latex": [
       "$\\displaystyle \\frac{0.5 \\left(- L_{1} m_{2}^{2} \\sin{\\left(\\theta{\\left(t \\right)} \\right)} \\left(\\frac{d}{d t} \\theta{\\left(t \\right)}\\right)^{2} - \\frac{L_{1} m_{2} m_{3} \\left(\\sin{\\left(2 \\phi{\\left(t \\right)} - 3 \\theta{\\left(t \\right)} \\right)} + \\sin{\\left(2 \\phi{\\left(t \\right)} - \\theta{\\left(t \\right)} \\right)}\\right) \\frac{d}{d t} \\phi{\\left(t \\right)} \\frac{d}{d t} \\theta{\\left(t \\right)}}{4} + \\frac{L_{1} m_{2} m_{3} \\left(\\sin{\\left(2 \\phi{\\left(t \\right)} - 3 \\theta{\\left(t \\right)} \\right)} + \\sin{\\left(2 \\phi{\\left(t \\right)} - \\theta{\\left(t \\right)} \\right)}\\right) \\left(\\frac{d}{d t} \\theta{\\left(t \\right)}\\right)^{2}}{4} - \\frac{L_{1} m_{2} m_{3} \\left(\\sin{\\left(2 \\phi{\\left(t \\right)} - \\theta{\\left(t \\right)} \\right)} + \\sin{\\left(2 \\phi{\\left(t \\right)} + \\theta{\\left(t \\right)} \\right)}\\right) \\frac{d}{d t} \\phi{\\left(t \\right)} \\frac{d}{d t} \\theta{\\left(t \\right)}}{4} + L_{1} m_{2} m_{3} \\sin{\\left(\\phi{\\left(t \\right)} - \\theta{\\left(t \\right)} \\right)} \\cos{\\left(\\phi{\\left(t \\right)} \\right)} \\frac{d}{d t} \\phi{\\left(t \\right)} \\frac{d}{d t} \\theta{\\left(t \\right)} - L_{1} m_{2} m_{3} \\sin{\\left(\\phi{\\left(t \\right)} - \\theta{\\left(t \\right)} \\right)} \\cos{\\left(\\phi{\\left(t \\right)} \\right)} \\left(\\frac{d}{d t} \\theta{\\left(t \\right)}\\right)^{2} + L_{1} m_{2} m_{3} \\sin{\\left(\\phi{\\left(t \\right)} \\right)} \\cos{\\left(\\phi{\\left(t \\right)} - \\theta{\\left(t \\right)} \\right)} \\cos^{2}{\\left(\\theta{\\left(t \\right)} \\right)} \\frac{d}{d t} \\phi{\\left(t \\right)} \\frac{d}{d t} \\theta{\\left(t \\right)} + L_{1} m_{2} m_{3} \\sin{\\left(\\theta{\\left(t \\right)} \\right)} \\cos^{2}{\\left(\\phi{\\left(t \\right)} - \\theta{\\left(t \\right)} \\right)} \\left(\\frac{d}{d t} \\theta{\\left(t \\right)}\\right)^{2} - L_{1} m_{2} m_{3} \\sin{\\left(\\theta{\\left(t \\right)} \\right)} \\cos{\\left(\\phi{\\left(t \\right)} - \\theta{\\left(t \\right)} \\right)} \\cos{\\left(\\phi{\\left(t \\right)} \\right)} \\cos{\\left(\\theta{\\left(t \\right)} \\right)} \\frac{d}{d t} \\phi{\\left(t \\right)} \\frac{d}{d t} \\theta{\\left(t \\right)} + L_{1} m_{2} m_{3} \\sin{\\left(\\theta{\\left(t \\right)} \\right)} \\cos^{2}{\\left(\\phi{\\left(t \\right)} \\right)} \\frac{d}{d t} \\phi{\\left(t \\right)} \\frac{d}{d t} \\theta{\\left(t \\right)} - 2.0 L_{1} m_{2} m_{3} \\sin{\\left(\\theta{\\left(t \\right)} \\right)} \\left(\\frac{d}{d t} \\theta{\\left(t \\right)}\\right)^{2} - \\frac{L_{1} m_{3}^{2} \\left(\\sin{\\left(2 \\phi{\\left(t \\right)} - 3 \\theta{\\left(t \\right)} \\right)} + \\sin{\\left(2 \\phi{\\left(t \\right)} - \\theta{\\left(t \\right)} \\right)}\\right) \\frac{d}{d t} \\phi{\\left(t \\right)} \\frac{d}{d t} \\theta{\\left(t \\right)}}{4} + \\frac{L_{1} m_{3}^{2} \\left(\\sin{\\left(2 \\phi{\\left(t \\right)} - 3 \\theta{\\left(t \\right)} \\right)} + \\sin{\\left(2 \\phi{\\left(t \\right)} - \\theta{\\left(t \\right)} \\right)}\\right) \\left(\\frac{d}{d t} \\theta{\\left(t \\right)}\\right)^{2}}{4} - \\frac{L_{1} m_{3}^{2} \\left(\\sin{\\left(2 \\phi{\\left(t \\right)} - \\theta{\\left(t \\right)} \\right)} + \\sin{\\left(2 \\phi{\\left(t \\right)} + \\theta{\\left(t \\right)} \\right)}\\right) \\frac{d}{d t} \\phi{\\left(t \\right)} \\frac{d}{d t} \\theta{\\left(t \\right)}}{4} + L_{1} m_{3}^{2} \\sin{\\left(\\phi{\\left(t \\right)} - \\theta{\\left(t \\right)} \\right)} \\cos{\\left(\\phi{\\left(t \\right)} \\right)} \\frac{d}{d t} \\phi{\\left(t \\right)} \\frac{d}{d t} \\theta{\\left(t \\right)} - L_{1} m_{3}^{2} \\sin{\\left(\\phi{\\left(t \\right)} - \\theta{\\left(t \\right)} \\right)} \\cos{\\left(\\phi{\\left(t \\right)} \\right)} \\left(\\frac{d}{d t} \\theta{\\left(t \\right)}\\right)^{2} + L_{1} m_{3}^{2} \\sin{\\left(\\phi{\\left(t \\right)} \\right)} \\cos{\\left(\\phi{\\left(t \\right)} - \\theta{\\left(t \\right)} \\right)} \\cos^{2}{\\left(\\theta{\\left(t \\right)} \\right)} \\frac{d}{d t} \\phi{\\left(t \\right)} \\frac{d}{d t} \\theta{\\left(t \\right)} + L_{1} m_{3}^{2} \\sin{\\left(\\theta{\\left(t \\right)} \\right)} \\cos^{2}{\\left(\\phi{\\left(t \\right)} - \\theta{\\left(t \\right)} \\right)} \\left(\\frac{d}{d t} \\theta{\\left(t \\right)}\\right)^{2} - L_{1} m_{3}^{2} \\sin{\\left(\\theta{\\left(t \\right)} \\right)} \\cos{\\left(\\phi{\\left(t \\right)} - \\theta{\\left(t \\right)} \\right)} \\cos{\\left(\\phi{\\left(t \\right)} \\right)} \\cos{\\left(\\theta{\\left(t \\right)} \\right)} \\frac{d}{d t} \\phi{\\left(t \\right)} \\frac{d}{d t} \\theta{\\left(t \\right)} + L_{1} m_{3}^{2} \\sin{\\left(\\theta{\\left(t \\right)} \\right)} \\cos^{2}{\\left(\\phi{\\left(t \\right)} \\right)} \\frac{d}{d t} \\phi{\\left(t \\right)} \\frac{d}{d t} \\theta{\\left(t \\right)} - L_{1} m_{3}^{2} \\sin{\\left(\\theta{\\left(t \\right)} \\right)} \\left(\\frac{d}{d t} \\theta{\\left(t \\right)}\\right)^{2} - \\frac{L_{2} m_{2} m_{3} \\left(- \\sin{\\left(\\phi{\\left(t \\right)} - 2 \\theta{\\left(t \\right)} \\right)} + \\sin{\\left(\\phi{\\left(t \\right)} + 2 \\theta{\\left(t \\right)} \\right)}\\right) \\frac{d}{d t} \\phi{\\left(t \\right)} \\frac{d}{d t} \\theta{\\left(t \\right)}}{4} + L_{2} m_{2} m_{3} \\sin{\\left(\\phi{\\left(t \\right)} - \\theta{\\left(t \\right)} \\right)} \\cos{\\left(\\theta{\\left(t \\right)} \\right)} \\left(\\frac{d}{d t} \\phi{\\left(t \\right)}\\right)^{2} - L_{2} m_{2} m_{3} \\sin{\\left(\\phi{\\left(t \\right)} - \\theta{\\left(t \\right)} \\right)} \\cos{\\left(\\theta{\\left(t \\right)} \\right)} \\frac{d}{d t} \\phi{\\left(t \\right)} \\frac{d}{d t} \\theta{\\left(t \\right)} + L_{2} m_{2} m_{3} \\sin{\\left(\\phi{\\left(t \\right)} \\right)} \\cos^{2}{\\left(\\theta{\\left(t \\right)} \\right)} \\frac{d}{d t} \\phi{\\left(t \\right)} \\frac{d}{d t} \\theta{\\left(t \\right)} - L_{2} m_{2} m_{3} \\sin{\\left(\\phi{\\left(t \\right)} \\right)} \\left(\\frac{d}{d t} \\phi{\\left(t \\right)}\\right)^{2} - \\frac{L_{2} m_{3}^{2} \\left(- \\sin{\\left(\\phi{\\left(t \\right)} - 2 \\theta{\\left(t \\right)} \\right)} + \\sin{\\left(\\phi{\\left(t \\right)} + 2 \\theta{\\left(t \\right)} \\right)}\\right) \\frac{d}{d t} \\phi{\\left(t \\right)} \\frac{d}{d t} \\theta{\\left(t \\right)}}{4} - \\frac{L_{2} m_{3}^{2} \\left(\\sin{\\left(\\phi{\\left(t \\right)} - 2 \\theta{\\left(t \\right)} \\right)} + \\sin{\\left(3 \\phi{\\left(t \\right)} - 2 \\theta{\\left(t \\right)} \\right)}\\right) \\left(\\frac{d}{d t} \\phi{\\left(t \\right)}\\right)^{2}}{4} + \\frac{L_{2} m_{3}^{2} \\left(\\sin{\\left(\\phi{\\left(t \\right)} - 2 \\theta{\\left(t \\right)} \\right)} + \\sin{\\left(3 \\phi{\\left(t \\right)} - 2 \\theta{\\left(t \\right)} \\right)}\\right) \\frac{d}{d t} \\phi{\\left(t \\right)} \\frac{d}{d t} \\theta{\\left(t \\right)}}{4} + L_{2} m_{3}^{2} \\sin{\\left(\\phi{\\left(t \\right)} - \\theta{\\left(t \\right)} \\right)} \\cos{\\left(\\theta{\\left(t \\right)} \\right)} \\left(\\frac{d}{d t} \\phi{\\left(t \\right)}\\right)^{2} - L_{2} m_{3}^{2} \\sin{\\left(\\phi{\\left(t \\right)} - \\theta{\\left(t \\right)} \\right)} \\cos{\\left(\\theta{\\left(t \\right)} \\right)} \\frac{d}{d t} \\phi{\\left(t \\right)} \\frac{d}{d t} \\theta{\\left(t \\right)} + L_{2} m_{3}^{2} \\sin{\\left(\\phi{\\left(t \\right)} \\right)} \\cos^{2}{\\left(\\phi{\\left(t \\right)} - \\theta{\\left(t \\right)} \\right)} \\left(\\frac{d}{d t} \\phi{\\left(t \\right)}\\right)^{2} - L_{2} m_{3}^{2} \\sin{\\left(\\phi{\\left(t \\right)} \\right)} \\cos{\\left(\\phi{\\left(t \\right)} - \\theta{\\left(t \\right)} \\right)} \\cos{\\left(\\phi{\\left(t \\right)} \\right)} \\cos{\\left(\\theta{\\left(t \\right)} \\right)} \\frac{d}{d t} \\phi{\\left(t \\right)} \\frac{d}{d t} \\theta{\\left(t \\right)} + L_{2} m_{3}^{2} \\sin{\\left(\\phi{\\left(t \\right)} \\right)} \\cos^{2}{\\left(\\theta{\\left(t \\right)} \\right)} \\frac{d}{d t} \\phi{\\left(t \\right)} \\frac{d}{d t} \\theta{\\left(t \\right)} - L_{2} m_{3}^{2} \\sin{\\left(\\phi{\\left(t \\right)} \\right)} \\left(\\frac{d}{d t} \\phi{\\left(t \\right)}\\right)^{2} + L_{2} m_{3}^{2} \\sin{\\left(\\theta{\\left(t \\right)} \\right)} \\cos{\\left(\\phi{\\left(t \\right)} - \\theta{\\left(t \\right)} \\right)} \\cos^{2}{\\left(\\phi{\\left(t \\right)} \\right)} \\frac{d}{d t} \\phi{\\left(t \\right)} \\frac{d}{d t} \\theta{\\left(t \\right)} - \\frac{g m_{2}^{2} \\sin{\\left(2 \\theta{\\left(t \\right)} \\right)}}{2} + g m_{2} m_{3} \\sin{\\left(\\phi{\\left(t \\right)} \\right)} \\cos{\\left(\\phi{\\left(t \\right)} - \\theta{\\left(t \\right)} \\right)} \\cos{\\left(\\theta{\\left(t \\right)} \\right)} - \\frac{g m_{2} m_{3} \\sin{\\left(2 \\phi{\\left(t \\right)} \\right)}}{2} + g m_{2} m_{3} \\sin{\\left(\\theta{\\left(t \\right)} \\right)} \\cos{\\left(\\phi{\\left(t \\right)} - \\theta{\\left(t \\right)} \\right)} \\cos{\\left(\\phi{\\left(t \\right)} \\right)} - 1.0 g m_{2} m_{3} \\sin{\\left(2 \\theta{\\left(t \\right)} \\right)} + g m_{3}^{2} \\sin{\\left(\\phi{\\left(t \\right)} \\right)} \\cos{\\left(\\phi{\\left(t \\right)} - \\theta{\\left(t \\right)} \\right)} \\cos{\\left(\\theta{\\left(t \\right)} \\right)} - \\frac{g m_{3}^{2} \\sin{\\left(2 \\phi{\\left(t \\right)} \\right)}}{2} + g m_{3}^{2} \\sin{\\left(\\theta{\\left(t \\right)} \\right)} \\cos{\\left(\\phi{\\left(t \\right)} - \\theta{\\left(t \\right)} \\right)} \\cos{\\left(\\phi{\\left(t \\right)} \\right)} - \\frac{g m_{3}^{2} \\sin{\\left(2 \\theta{\\left(t \\right)} \\right)}}{2}\\right)}{- 0.5 m_{1} m_{2} - 0.5 m_{1} m_{3} \\sin^{2}{\\left(\\phi{\\left(t \\right)} \\right)} + 1.0 m_{1} m_{3} \\sin{\\left(\\phi{\\left(t \\right)} \\right)} \\sin{\\left(\\theta{\\left(t \\right)} \\right)} \\cos{\\left(\\phi{\\left(t \\right)} - \\theta{\\left(t \\right)} \\right)} - 0.5 m_{1} m_{3} \\sin^{2}{\\left(\\theta{\\left(t \\right)} \\right)} - 0.5 m_{2}^{2} \\sin^{2}{\\left(\\theta{\\left(t \\right)} \\right)} - 0.5 m_{2} m_{3} \\sin^{2}{\\left(\\theta{\\left(t \\right)} \\right)}}$"
      ],
      "text/plain": [
       "0.5*(-L_1*m_2**2*sin(theta(t))*Derivative(theta(t), t)**2 - L_1*m_2*m_3*(sin(2*phi(t) - 3*theta(t)) + sin(2*phi(t) - theta(t)))*Derivative(phi(t), t)*Derivative(theta(t), t)/4 + L_1*m_2*m_3*(sin(2*phi(t) - 3*theta(t)) + sin(2*phi(t) - theta(t)))*Derivative(theta(t), t)**2/4 - L_1*m_2*m_3*(sin(2*phi(t) - theta(t)) + sin(2*phi(t) + theta(t)))*Derivative(phi(t), t)*Derivative(theta(t), t)/4 + L_1*m_2*m_3*sin(phi(t) - theta(t))*cos(phi(t))*Derivative(phi(t), t)*Derivative(theta(t), t) - L_1*m_2*m_3*sin(phi(t) - theta(t))*cos(phi(t))*Derivative(theta(t), t)**2 + L_1*m_2*m_3*sin(phi(t))*cos(phi(t) - theta(t))*cos(theta(t))**2*Derivative(phi(t), t)*Derivative(theta(t), t) + L_1*m_2*m_3*sin(theta(t))*cos(phi(t) - theta(t))**2*Derivative(theta(t), t)**2 - L_1*m_2*m_3*sin(theta(t))*cos(phi(t) - theta(t))*cos(phi(t))*cos(theta(t))*Derivative(phi(t), t)*Derivative(theta(t), t) + L_1*m_2*m_3*sin(theta(t))*cos(phi(t))**2*Derivative(phi(t), t)*Derivative(theta(t), t) - 2.0*L_1*m_2*m_3*sin(theta(t))*Derivative(theta(t), t)**2 - L_1*m_3**2*(sin(2*phi(t) - 3*theta(t)) + sin(2*phi(t) - theta(t)))*Derivative(phi(t), t)*Derivative(theta(t), t)/4 + L_1*m_3**2*(sin(2*phi(t) - 3*theta(t)) + sin(2*phi(t) - theta(t)))*Derivative(theta(t), t)**2/4 - L_1*m_3**2*(sin(2*phi(t) - theta(t)) + sin(2*phi(t) + theta(t)))*Derivative(phi(t), t)*Derivative(theta(t), t)/4 + L_1*m_3**2*sin(phi(t) - theta(t))*cos(phi(t))*Derivative(phi(t), t)*Derivative(theta(t), t) - L_1*m_3**2*sin(phi(t) - theta(t))*cos(phi(t))*Derivative(theta(t), t)**2 + L_1*m_3**2*sin(phi(t))*cos(phi(t) - theta(t))*cos(theta(t))**2*Derivative(phi(t), t)*Derivative(theta(t), t) + L_1*m_3**2*sin(theta(t))*cos(phi(t) - theta(t))**2*Derivative(theta(t), t)**2 - L_1*m_3**2*sin(theta(t))*cos(phi(t) - theta(t))*cos(phi(t))*cos(theta(t))*Derivative(phi(t), t)*Derivative(theta(t), t) + L_1*m_3**2*sin(theta(t))*cos(phi(t))**2*Derivative(phi(t), t)*Derivative(theta(t), t) - L_1*m_3**2*sin(theta(t))*Derivative(theta(t), t)**2 - L_2*m_2*m_3*(-sin(phi(t) - 2*theta(t)) + sin(phi(t) + 2*theta(t)))*Derivative(phi(t), t)*Derivative(theta(t), t)/4 + L_2*m_2*m_3*sin(phi(t) - theta(t))*cos(theta(t))*Derivative(phi(t), t)**2 - L_2*m_2*m_3*sin(phi(t) - theta(t))*cos(theta(t))*Derivative(phi(t), t)*Derivative(theta(t), t) + L_2*m_2*m_3*sin(phi(t))*cos(theta(t))**2*Derivative(phi(t), t)*Derivative(theta(t), t) - L_2*m_2*m_3*sin(phi(t))*Derivative(phi(t), t)**2 - L_2*m_3**2*(-sin(phi(t) - 2*theta(t)) + sin(phi(t) + 2*theta(t)))*Derivative(phi(t), t)*Derivative(theta(t), t)/4 - L_2*m_3**2*(sin(phi(t) - 2*theta(t)) + sin(3*phi(t) - 2*theta(t)))*Derivative(phi(t), t)**2/4 + L_2*m_3**2*(sin(phi(t) - 2*theta(t)) + sin(3*phi(t) - 2*theta(t)))*Derivative(phi(t), t)*Derivative(theta(t), t)/4 + L_2*m_3**2*sin(phi(t) - theta(t))*cos(theta(t))*Derivative(phi(t), t)**2 - L_2*m_3**2*sin(phi(t) - theta(t))*cos(theta(t))*Derivative(phi(t), t)*Derivative(theta(t), t) + L_2*m_3**2*sin(phi(t))*cos(phi(t) - theta(t))**2*Derivative(phi(t), t)**2 - L_2*m_3**2*sin(phi(t))*cos(phi(t) - theta(t))*cos(phi(t))*cos(theta(t))*Derivative(phi(t), t)*Derivative(theta(t), t) + L_2*m_3**2*sin(phi(t))*cos(theta(t))**2*Derivative(phi(t), t)*Derivative(theta(t), t) - L_2*m_3**2*sin(phi(t))*Derivative(phi(t), t)**2 + L_2*m_3**2*sin(theta(t))*cos(phi(t) - theta(t))*cos(phi(t))**2*Derivative(phi(t), t)*Derivative(theta(t), t) - g*m_2**2*sin(2*theta(t))/2 + g*m_2*m_3*sin(phi(t))*cos(phi(t) - theta(t))*cos(theta(t)) - g*m_2*m_3*sin(2*phi(t))/2 + g*m_2*m_3*sin(theta(t))*cos(phi(t) - theta(t))*cos(phi(t)) - 1.0*g*m_2*m_3*sin(2*theta(t)) + g*m_3**2*sin(phi(t))*cos(phi(t) - theta(t))*cos(theta(t)) - g*m_3**2*sin(2*phi(t))/2 + g*m_3**2*sin(theta(t))*cos(phi(t) - theta(t))*cos(phi(t)) - g*m_3**2*sin(2*theta(t))/2)/(-0.5*m_1*m_2 - 0.5*m_1*m_3*sin(phi(t))**2 + 1.0*m_1*m_3*sin(phi(t))*sin(theta(t))*cos(phi(t) - theta(t)) - 0.5*m_1*m_3*sin(theta(t))**2 - 0.5*m_2**2*sin(theta(t))**2 - 0.5*m_2*m_3*sin(theta(t))**2)"
      ]
     },
     "execution_count": 7,
     "metadata": {},
     "output_type": "execute_result"
    }
   ],
   "source": [
    "solvx = sy.solve([Leq1,Leq2,Leq3],(xdiff_2,thdiff_2,phdiff_2))\n",
    "solvx[xdiff_2].simplify()"
   ]
  },
  {
   "cell_type": "code",
   "execution_count": 8,
   "id": "ba964985",
   "metadata": {
    "scrolled": true
   },
   "outputs": [
    {
     "data": {
      "text/latex": [
       "$\\displaystyle \\frac{- 0.25 L_{1} m_{1} m_{3} \\sin{\\left(2 \\phi{\\left(t \\right)} - 2 \\theta{\\left(t \\right)} \\right)} \\left(\\frac{d}{d t} \\theta{\\left(t \\right)}\\right)^{2} + 0.25 L_{1} m_{2}^{2} \\sin{\\left(2 \\theta{\\left(t \\right)} \\right)} \\left(\\frac{d}{d t} \\theta{\\left(t \\right)}\\right)^{2} + 0.25 L_{1} m_{2} m_{3} \\sin{\\left(2 \\theta{\\left(t \\right)} \\right)} \\left(\\frac{d}{d t} \\theta{\\left(t \\right)}\\right)^{2} - 0.5 L_{2} m_{1} m_{3} \\sin{\\left(\\phi{\\left(t \\right)} - \\theta{\\left(t \\right)} \\right)} \\left(\\frac{d}{d t} \\phi{\\left(t \\right)}\\right)^{2} - 0.25 L_{2} m_{2} m_{3} \\sin{\\left(\\phi{\\left(t \\right)} - \\theta{\\left(t \\right)} \\right)} \\left(\\frac{d}{d t} \\phi{\\left(t \\right)}\\right)^{2} + 0.25 L_{2} m_{2} m_{3} \\sin{\\left(\\phi{\\left(t \\right)} + \\theta{\\left(t \\right)} \\right)} \\left(\\frac{d}{d t} \\phi{\\left(t \\right)}\\right)^{2} + 0.5 g m_{1} m_{2} \\sin{\\left(\\theta{\\left(t \\right)} \\right)} - 0.25 g m_{1} m_{3} \\sin{\\left(2 \\phi{\\left(t \\right)} - \\theta{\\left(t \\right)} \\right)} + 0.25 g m_{1} m_{3} \\sin{\\left(\\theta{\\left(t \\right)} \\right)} + 0.5 g m_{2}^{2} \\sin{\\left(\\theta{\\left(t \\right)} \\right)} + 0.5 g m_{2} m_{3} \\sin{\\left(\\theta{\\left(t \\right)} \\right)}}{L_{1} \\left(- 0.5 m_{1} m_{2} + 0.25 m_{1} m_{3} \\cos{\\left(2 \\phi{\\left(t \\right)} - 2 \\theta{\\left(t \\right)} \\right)} - 0.25 m_{1} m_{3} + 0.25 m_{2}^{2} \\cos{\\left(2 \\theta{\\left(t \\right)} \\right)} - 0.25 m_{2}^{2} + 0.25 m_{2} m_{3} \\cos{\\left(2 \\theta{\\left(t \\right)} \\right)} - 0.25 m_{2} m_{3}\\right)}$"
      ],
      "text/plain": [
       "(-0.25*L_1*m_1*m_3*sin(2*phi(t) - 2*theta(t))*Derivative(theta(t), t)**2 + 0.25*L_1*m_2**2*sin(2*theta(t))*Derivative(theta(t), t)**2 + 0.25*L_1*m_2*m_3*sin(2*theta(t))*Derivative(theta(t), t)**2 - 0.5*L_2*m_1*m_3*sin(phi(t) - theta(t))*Derivative(phi(t), t)**2 - 0.25*L_2*m_2*m_3*sin(phi(t) - theta(t))*Derivative(phi(t), t)**2 + 0.25*L_2*m_2*m_3*sin(phi(t) + theta(t))*Derivative(phi(t), t)**2 + 0.5*g*m_1*m_2*sin(theta(t)) - 0.25*g*m_1*m_3*sin(2*phi(t) - theta(t)) + 0.25*g*m_1*m_3*sin(theta(t)) + 0.5*g*m_2**2*sin(theta(t)) + 0.5*g*m_2*m_3*sin(theta(t)))/(L_1*(-0.5*m_1*m_2 + 0.25*m_1*m_3*cos(2*phi(t) - 2*theta(t)) - 0.25*m_1*m_3 + 0.25*m_2**2*cos(2*theta(t)) - 0.25*m_2**2 + 0.25*m_2*m_3*cos(2*theta(t)) - 0.25*m_2*m_3))"
      ]
     },
     "execution_count": 8,
     "metadata": {},
     "output_type": "execute_result"
    }
   ],
   "source": [
    "solvx[thdiff_2].simplify() "
   ]
  },
  {
   "cell_type": "code",
   "execution_count": 9,
   "id": "bb6a0663",
   "metadata": {},
   "outputs": [
    {
     "data": {
      "text/latex": [
       "$\\displaystyle \\frac{0.5 m_{1} \\cdot \\left(1.0 L_{1} m_{2} \\sin{\\left(\\phi{\\left(t \\right)} - \\theta{\\left(t \\right)} \\right)} \\left(\\frac{d}{d t} \\theta{\\left(t \\right)}\\right)^{2} + 1.0 L_{1} m_{3} \\sin{\\left(\\phi{\\left(t \\right)} - \\theta{\\left(t \\right)} \\right)} \\left(\\frac{d}{d t} \\theta{\\left(t \\right)}\\right)^{2} + 0.5 L_{2} m_{3} \\sin{\\left(2 \\phi{\\left(t \\right)} - 2 \\theta{\\left(t \\right)} \\right)} \\left(\\frac{d}{d t} \\phi{\\left(t \\right)}\\right)^{2} + 0.5 g m_{2} \\sin{\\left(\\phi{\\left(t \\right)} - 2 \\theta{\\left(t \\right)} \\right)} + 0.5 g m_{2} \\sin{\\left(\\phi{\\left(t \\right)} \\right)} + 0.5 g m_{3} \\sin{\\left(\\phi{\\left(t \\right)} - 2 \\theta{\\left(t \\right)} \\right)} + 0.5 g m_{3} \\sin{\\left(\\phi{\\left(t \\right)} \\right)}\\right)}{L_{2} \\left(- 0.5 m_{1} m_{2} + 0.25 m_{1} m_{3} \\cos{\\left(2 \\phi{\\left(t \\right)} - 2 \\theta{\\left(t \\right)} \\right)} - 0.25 m_{1} m_{3} + 0.25 m_{2}^{2} \\cos{\\left(2 \\theta{\\left(t \\right)} \\right)} - 0.25 m_{2}^{2} + 0.25 m_{2} m_{3} \\cos{\\left(2 \\theta{\\left(t \\right)} \\right)} - 0.25 m_{2} m_{3}\\right)}$"
      ],
      "text/plain": [
       "0.5*m_1*(1.0*L_1*m_2*sin(phi(t) - theta(t))*Derivative(theta(t), t)**2 + 1.0*L_1*m_3*sin(phi(t) - theta(t))*Derivative(theta(t), t)**2 + 0.5*L_2*m_3*sin(2*phi(t) - 2*theta(t))*Derivative(phi(t), t)**2 + 0.5*g*m_2*sin(phi(t) - 2*theta(t)) + 0.5*g*m_2*sin(phi(t)) + 0.5*g*m_3*sin(phi(t) - 2*theta(t)) + 0.5*g*m_3*sin(phi(t)))/(L_2*(-0.5*m_1*m_2 + 0.25*m_1*m_3*cos(2*phi(t) - 2*theta(t)) - 0.25*m_1*m_3 + 0.25*m_2**2*cos(2*theta(t)) - 0.25*m_2**2 + 0.25*m_2*m_3*cos(2*theta(t)) - 0.25*m_2*m_3))"
      ]
     },
     "execution_count": 9,
     "metadata": {},
     "output_type": "execute_result"
    }
   ],
   "source": [
    "solvx[phdiff_2].simplify() "
   ]
  },
  {
   "cell_type": "code",
   "execution_count": 10,
   "id": "795101e0",
   "metadata": {},
   "outputs": [],
   "source": [
    "nLeq3 = Leq3.subs({xdiff_2:solvx[xdiff_2]}).simplify()"
   ]
  },
  {
   "cell_type": "code",
   "execution_count": null,
   "id": "cdd02a4a",
   "metadata": {},
   "outputs": [],
   "source": [
    "phdiff_2new = sy.solve(nLeq3.subs(thdiff_2, solvx[thdiff_2]).simplify(), phdiff_2)[0]"
   ]
  },
  {
   "cell_type": "code",
   "execution_count": null,
   "id": "da0fc79b",
   "metadata": {},
   "outputs": [],
   "source": [
    "xdiff_2new = solvx[xdiff_2].subs(phdiff_2, phdiff_2new)"
   ]
  },
  {
   "cell_type": "code",
   "execution_count": null,
   "id": "6bf81c9a",
   "metadata": {},
   "outputs": [],
   "source": [
    "thdiff_2new = solvx[thdiff_2].subs(phdiff_2, phdiff_2new)"
   ]
  },
  {
   "cell_type": "code",
   "execution_count": null,
   "id": "f80f7548",
   "metadata": {},
   "outputs": [],
   "source": [
    "phdiff_2new"
   ]
  },
  {
   "cell_type": "code",
   "execution_count": null,
   "id": "70ebca20",
   "metadata": {},
   "outputs": [],
   "source": [
    "#Recebendo valores numéricos\n",
    "dz1dt_f = sy.lambdify((t, g, m1, m2, m3, l1, l2, x, th, ph, xdiff, thdiff, phdiff), xdiff_2new)\n",
    "dz2dt_f = sy.lambdify((t, g, m1, m2, m3, l1, l2, x, th, ph, xdiff, thdiff, phdiff), thdiff_2new)\n",
    "dz3dt_f = sy.lambdify((t, g, m1, m2, m3, l1, l2, x, th, ph, xdiff, thdiff, phdiff), phdiff_2new)\n",
    "dxdt_f = sy.lambdify(xdiff, xdiff)\n",
    "dth1dt_f = sy.lambdify(thdiff, thdiff) #Apenas uma função identidade\n",
    "dth2dt_f = sy.lambdify(phdiff, phdiff)\n",
    "dz1dt_f(2, 9.81, 1, 1, 1, 1, 1, 2, 4, 2, 2, 5, 3)"
   ]
  },
  {
   "cell_type": "code",
   "execution_count": null,
   "id": "16eea8c1",
   "metadata": {},
   "outputs": [],
   "source": [
    "def dSdt(S, t, g, m1, m2, m3, l1, l2):\n",
    "    x, th, ph, z1, z2, z3 = S\n",
    "    return [dxdt_f(z1), dz1dt_f(t, g, m1, m2, m3, l1, l2, x, th, ph, z1, z2, z3),\n",
    "            dth1dt_f(z2), dz2dt_f(t, g, m1, m2, m3, l1, l2, x, th, ph, z1, z2, z3),\n",
    "           dth2dt_f(z3), dz3dt_f(t, g, m1, m2, m3, l1, l2, x, th, ph, z1, z2, z3)]\n"
   ]
  },
  {
   "cell_type": "code",
   "execution_count": null,
   "id": "d99e6185",
   "metadata": {},
   "outputs": [],
   "source": [
    "from scipy.integrate import odeint\n",
    "tl = np.linspace(0, 40, 1001)\n",
    "g = 9.81\n",
    "m1 = 1\n",
    "m2 = 1\n",
    "m3 = 2\n",
    "l1 = 2\n",
    "l2 = 1\n",
    "x = 0\n",
    "ans = odeint(dSdt, y0=[1, -3, -1, 5, 2, 3], t=tl, args=(g,m1,m2,m3,l1,l2))\n",
    "tl[tl<1] #25 frames por segundo"
   ]
  },
  {
   "cell_type": "code",
   "execution_count": null,
   "id": "0d59c96a",
   "metadata": {},
   "outputs": [],
   "source": [
    "th1 = ans.T[0]\n",
    "th2 = ans.T[2]\n",
    "plt.plot(tl, th2)"
   ]
  },
  {
   "cell_type": "code",
   "execution_count": null,
   "id": "c68bc949",
   "metadata": {},
   "outputs": [],
   "source": []
  }
 ],
 "metadata": {
  "kernelspec": {
   "display_name": "Python 3 (ipykernel)",
   "language": "python",
   "name": "python3"
  },
  "language_info": {
   "codemirror_mode": {
    "name": "ipython",
    "version": 3
   },
   "file_extension": ".py",
   "mimetype": "text/x-python",
   "name": "python",
   "nbconvert_exporter": "python",
   "pygments_lexer": "ipython3",
   "version": "3.10.9"
  }
 },
 "nbformat": 4,
 "nbformat_minor": 5
}
