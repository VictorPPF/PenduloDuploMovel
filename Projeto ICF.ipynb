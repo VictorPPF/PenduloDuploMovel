{
 "cells": [
  {
   "cell_type": "code",
   "execution_count": 4,
   "id": "5d3d6486",
   "metadata": {},
   "outputs": [],
   "source": [
    "import sympy as sy\n",
    "import numpy as np\n",
    "import matplotlib.pyplot as plt"
   ]
  },
  {
   "cell_type": "code",
   "execution_count": 14,
   "id": "17ac7436",
   "metadata": {},
   "outputs": [],
   "source": [
    "t, g = sy.symbols('t g')\n",
    "m1, m2, m3 = sy.symbols('m_1 m_2 m_3')\n",
    "l1, l2 = sy.symbols('L_1 L_2')\n",
    "theta, phi, x = sy.symbols('theta phi x', cls=sy.Function)\n",
    "th = theta(t)\n",
    "ph = phi(t)\n",
    "xt = x(t)\n",
    "\n",
    "thdiff = sy.diff(th, t)\n",
    "phdiff = sy.diff(ph, t)\n",
    "thdiff_2 = sy.diff(thdiff, t)\n",
    "phdiff_2 = sy.diff(phdiff, t)\n",
    "xdiff = sy.diff(xt, t)\n",
    "xdiff_2 = sy.diff(xdiff, t)\n",
    "#Equações de posição\n",
    "x1 = xt\n",
    "x2 = xt + l1*sy.sin(th)\n",
    "y2 = -l1*sy.cos(th)\n",
    "x3 = x2 + l2*sy.sin(ph)\n",
    "y3 = y2 - l2*sy.cos(ph)\n",
    "#Energia Cinética\n",
    "T1 = 1/2 * m1 * sy.diff(x1, t)**2\n",
    "T2 = 1/2 * m2 * (sy.diff(x2, t)**2 + sy.diff(y2, t)**2)\n",
    "T3 = 1/2 * m3 * (sy.diff(x3, t)**2 + sy.diff(y3, t)**2)\n",
    "T = T1 + T2 + T3\n",
    "#Energia Potencial\n",
    "U1 = m2 * g * y2\n",
    "U2 = m3 * g * y3\n",
    "U = U1 + U2\n",
    "#Lagrangian\n",
    "L = T - U\n",
    "\n",
    "\n",
    "Leq1 = sy.Eq(sy.diff(L, xt) - sy.diff(sy.diff(L, xdiff), t).simplify(),0)\n",
    "Leq2 = sy.Eq(sy.diff(L, th) - sy.diff(sy.diff(L, thdiff), t).simplify(),0)\n",
    "Leq3 = sy.Eq(sy.diff(L, ph) - sy.diff(sy.diff(L, phdiff), t).simplify(),0) \n",
    "eqx = sy.Eq(xdiff_2,sy.solve(Leq1,xdiff_2)[0])\n",
    "eqtheta = sy.Eq(thdiff_2,sy.solve(Leq2,thdiff_2)[0])\n",
    "eqphi = sy.Eq(phdiff_2,sy.solve(Leq3,phdiff_2)[0])"
   ]
  },
  {
   "cell_type": "code",
   "execution_count": 15,
   "id": "a42e5e15",
   "metadata": {},
   "outputs": [
    {
     "data": {
      "text/latex": [
       "$\\displaystyle \\frac{d^{2}}{d t^{2}} x{\\left(t \\right)} = \\frac{L_{1} m_{2} \\sin{\\left(\\theta{\\left(t \\right)} \\right)} \\left(\\frac{d}{d t} \\theta{\\left(t \\right)}\\right)^{2} - L_{1} m_{2} \\cos{\\left(\\theta{\\left(t \\right)} \\right)} \\frac{d^{2}}{d t^{2}} \\theta{\\left(t \\right)} + L_{1} m_{3} \\sin{\\left(\\theta{\\left(t \\right)} \\right)} \\left(\\frac{d}{d t} \\theta{\\left(t \\right)}\\right)^{2} - L_{1} m_{3} \\cos{\\left(\\theta{\\left(t \\right)} \\right)} \\frac{d^{2}}{d t^{2}} \\theta{\\left(t \\right)} + L_{2} m_{3} \\sin{\\left(\\phi{\\left(t \\right)} \\right)} \\left(\\frac{d}{d t} \\phi{\\left(t \\right)}\\right)^{2} - L_{2} m_{3} \\cos{\\left(\\phi{\\left(t \\right)} \\right)} \\frac{d^{2}}{d t^{2}} \\phi{\\left(t \\right)}}{m_{1} + m_{2} + m_{3}}$"
      ],
      "text/plain": [
       "Eq(Derivative(x(t), (t, 2)), (L_1*m_2*sin(theta(t))*Derivative(theta(t), t)**2 - L_1*m_2*cos(theta(t))*Derivative(theta(t), (t, 2)) + L_1*m_3*sin(theta(t))*Derivative(theta(t), t)**2 - L_1*m_3*cos(theta(t))*Derivative(theta(t), (t, 2)) + L_2*m_3*sin(phi(t))*Derivative(phi(t), t)**2 - L_2*m_3*cos(phi(t))*Derivative(phi(t), (t, 2)))/(m_1 + m_2 + m_3))"
      ]
     },
     "execution_count": 15,
     "metadata": {},
     "output_type": "execute_result"
    }
   ],
   "source": [
    "eqx"
   ]
  },
  {
   "cell_type": "code",
   "execution_count": 16,
   "id": "3a524a1b",
   "metadata": {},
   "outputs": [
    {
     "data": {
      "text/latex": [
       "$\\displaystyle \\frac{d^{2}}{d t^{2}} \\theta{\\left(t \\right)} = \\frac{L_{2} m_{3} \\sin{\\left(\\phi{\\left(t \\right)} - \\theta{\\left(t \\right)} \\right)} \\left(\\frac{d}{d t} \\phi{\\left(t \\right)}\\right)^{2} - L_{2} m_{3} \\cos{\\left(\\phi{\\left(t \\right)} - \\theta{\\left(t \\right)} \\right)} \\frac{d^{2}}{d t^{2}} \\phi{\\left(t \\right)} - g m_{2} \\sin{\\left(\\theta{\\left(t \\right)} \\right)} - g m_{3} \\sin{\\left(\\theta{\\left(t \\right)} \\right)} - m_{2} \\cos{\\left(\\theta{\\left(t \\right)} \\right)} \\frac{d^{2}}{d t^{2}} x{\\left(t \\right)} - m_{3} \\cos{\\left(\\theta{\\left(t \\right)} \\right)} \\frac{d^{2}}{d t^{2}} x{\\left(t \\right)}}{L_{1} \\left(m_{2} + m_{3}\\right)}$"
      ],
      "text/plain": [
       "Eq(Derivative(theta(t), (t, 2)), (L_2*m_3*sin(phi(t) - theta(t))*Derivative(phi(t), t)**2 - L_2*m_3*cos(phi(t) - theta(t))*Derivative(phi(t), (t, 2)) - g*m_2*sin(theta(t)) - g*m_3*sin(theta(t)) - m_2*cos(theta(t))*Derivative(x(t), (t, 2)) - m_3*cos(theta(t))*Derivative(x(t), (t, 2)))/(L_1*(m_2 + m_3)))"
      ]
     },
     "execution_count": 16,
     "metadata": {},
     "output_type": "execute_result"
    }
   ],
   "source": [
    "eqtheta"
   ]
  },
  {
   "cell_type": "code",
   "execution_count": 17,
   "id": "61614562",
   "metadata": {},
   "outputs": [
    {
     "data": {
      "text/latex": [
       "$\\displaystyle \\frac{d^{2}}{d t^{2}} \\phi{\\left(t \\right)} = - \\frac{L_{1} \\sin{\\left(\\phi{\\left(t \\right)} - \\theta{\\left(t \\right)} \\right)} \\left(\\frac{d}{d t} \\theta{\\left(t \\right)}\\right)^{2} + L_{1} \\cos{\\left(\\phi{\\left(t \\right)} - \\theta{\\left(t \\right)} \\right)} \\frac{d^{2}}{d t^{2}} \\theta{\\left(t \\right)} + g \\sin{\\left(\\phi{\\left(t \\right)} \\right)} + \\cos{\\left(\\phi{\\left(t \\right)} \\right)} \\frac{d^{2}}{d t^{2}} x{\\left(t \\right)}}{L_{2}}$"
      ],
      "text/plain": [
       "Eq(Derivative(phi(t), (t, 2)), -(L_1*sin(phi(t) - theta(t))*Derivative(theta(t), t)**2 + L_1*cos(phi(t) - theta(t))*Derivative(theta(t), (t, 2)) + g*sin(phi(t)) + cos(phi(t))*Derivative(x(t), (t, 2)))/L_2)"
      ]
     },
     "execution_count": 17,
     "metadata": {},
     "output_type": "execute_result"
    }
   ],
   "source": [
    "eqphi"
   ]
  },
  {
   "cell_type": "code",
   "execution_count": 10,
   "id": "10bbf404",
   "metadata": {},
   "outputs": [],
   "source": [
    "solv = sy.solve([Leq1,Leq2,Leq3],(xdiff_2,thdiff_2,phdiff_2))\n",
    "eqx_new= sy.Eq(xdiff_2,solv[xdiff_2].simplify())\n",
    "eqtheta_new = sy.Eq(thdiff_2,solv[thdiff_2].simplify())\n",
    "eqphi_new = sy.Eq(phdiff_2,solv[phdiff_2].simplify())"
   ]
  },
  {
   "cell_type": "code",
   "execution_count": 11,
   "id": "4a1850c5",
   "metadata": {},
   "outputs": [
    {
     "data": {
      "text/latex": [
       "$\\displaystyle \\frac{d^{2}}{d t^{2}} x{\\left(t \\right)} = \\frac{0.5 \\left(- L_{1} m_{2}^{2} \\sin{\\left(\\theta{\\left(t \\right)} \\right)} \\left(\\frac{d}{d t} \\theta{\\left(t \\right)}\\right)^{2} - \\frac{L_{1} m_{2} m_{3} \\left(\\sin{\\left(2 \\phi{\\left(t \\right)} - 3 \\theta{\\left(t \\right)} \\right)} + \\sin{\\left(2 \\phi{\\left(t \\right)} - \\theta{\\left(t \\right)} \\right)}\\right) \\frac{d}{d t} \\phi{\\left(t \\right)} \\frac{d}{d t} \\theta{\\left(t \\right)}}{4} + \\frac{L_{1} m_{2} m_{3} \\left(\\sin{\\left(2 \\phi{\\left(t \\right)} - 3 \\theta{\\left(t \\right)} \\right)} + \\sin{\\left(2 \\phi{\\left(t \\right)} - \\theta{\\left(t \\right)} \\right)}\\right) \\left(\\frac{d}{d t} \\theta{\\left(t \\right)}\\right)^{2}}{4} - \\frac{L_{1} m_{2} m_{3} \\left(\\sin{\\left(2 \\phi{\\left(t \\right)} - \\theta{\\left(t \\right)} \\right)} + \\sin{\\left(2 \\phi{\\left(t \\right)} + \\theta{\\left(t \\right)} \\right)}\\right) \\frac{d}{d t} \\phi{\\left(t \\right)} \\frac{d}{d t} \\theta{\\left(t \\right)}}{4} + L_{1} m_{2} m_{3} \\sin{\\left(\\phi{\\left(t \\right)} - \\theta{\\left(t \\right)} \\right)} \\cos{\\left(\\phi{\\left(t \\right)} \\right)} \\frac{d}{d t} \\phi{\\left(t \\right)} \\frac{d}{d t} \\theta{\\left(t \\right)} - L_{1} m_{2} m_{3} \\sin{\\left(\\phi{\\left(t \\right)} - \\theta{\\left(t \\right)} \\right)} \\cos{\\left(\\phi{\\left(t \\right)} \\right)} \\left(\\frac{d}{d t} \\theta{\\left(t \\right)}\\right)^{2} + L_{1} m_{2} m_{3} \\sin{\\left(\\phi{\\left(t \\right)} \\right)} \\cos{\\left(\\phi{\\left(t \\right)} - \\theta{\\left(t \\right)} \\right)} \\cos^{2}{\\left(\\theta{\\left(t \\right)} \\right)} \\frac{d}{d t} \\phi{\\left(t \\right)} \\frac{d}{d t} \\theta{\\left(t \\right)} + L_{1} m_{2} m_{3} \\sin{\\left(\\theta{\\left(t \\right)} \\right)} \\cos^{2}{\\left(\\phi{\\left(t \\right)} - \\theta{\\left(t \\right)} \\right)} \\left(\\frac{d}{d t} \\theta{\\left(t \\right)}\\right)^{2} - L_{1} m_{2} m_{3} \\sin{\\left(\\theta{\\left(t \\right)} \\right)} \\cos{\\left(\\phi{\\left(t \\right)} - \\theta{\\left(t \\right)} \\right)} \\cos{\\left(\\phi{\\left(t \\right)} \\right)} \\cos{\\left(\\theta{\\left(t \\right)} \\right)} \\frac{d}{d t} \\phi{\\left(t \\right)} \\frac{d}{d t} \\theta{\\left(t \\right)} + L_{1} m_{2} m_{3} \\sin{\\left(\\theta{\\left(t \\right)} \\right)} \\cos^{2}{\\left(\\phi{\\left(t \\right)} \\right)} \\frac{d}{d t} \\phi{\\left(t \\right)} \\frac{d}{d t} \\theta{\\left(t \\right)} - 2.0 L_{1} m_{2} m_{3} \\sin{\\left(\\theta{\\left(t \\right)} \\right)} \\left(\\frac{d}{d t} \\theta{\\left(t \\right)}\\right)^{2} - \\frac{L_{1} m_{3}^{2} \\left(\\sin{\\left(2 \\phi{\\left(t \\right)} - 3 \\theta{\\left(t \\right)} \\right)} + \\sin{\\left(2 \\phi{\\left(t \\right)} - \\theta{\\left(t \\right)} \\right)}\\right) \\frac{d}{d t} \\phi{\\left(t \\right)} \\frac{d}{d t} \\theta{\\left(t \\right)}}{4} + \\frac{L_{1} m_{3}^{2} \\left(\\sin{\\left(2 \\phi{\\left(t \\right)} - 3 \\theta{\\left(t \\right)} \\right)} + \\sin{\\left(2 \\phi{\\left(t \\right)} - \\theta{\\left(t \\right)} \\right)}\\right) \\left(\\frac{d}{d t} \\theta{\\left(t \\right)}\\right)^{2}}{4} - \\frac{L_{1} m_{3}^{2} \\left(\\sin{\\left(2 \\phi{\\left(t \\right)} - \\theta{\\left(t \\right)} \\right)} + \\sin{\\left(2 \\phi{\\left(t \\right)} + \\theta{\\left(t \\right)} \\right)}\\right) \\frac{d}{d t} \\phi{\\left(t \\right)} \\frac{d}{d t} \\theta{\\left(t \\right)}}{4} + L_{1} m_{3}^{2} \\sin{\\left(\\phi{\\left(t \\right)} - \\theta{\\left(t \\right)} \\right)} \\cos{\\left(\\phi{\\left(t \\right)} \\right)} \\frac{d}{d t} \\phi{\\left(t \\right)} \\frac{d}{d t} \\theta{\\left(t \\right)} - L_{1} m_{3}^{2} \\sin{\\left(\\phi{\\left(t \\right)} - \\theta{\\left(t \\right)} \\right)} \\cos{\\left(\\phi{\\left(t \\right)} \\right)} \\left(\\frac{d}{d t} \\theta{\\left(t \\right)}\\right)^{2} + L_{1} m_{3}^{2} \\sin{\\left(\\phi{\\left(t \\right)} \\right)} \\cos{\\left(\\phi{\\left(t \\right)} - \\theta{\\left(t \\right)} \\right)} \\cos^{2}{\\left(\\theta{\\left(t \\right)} \\right)} \\frac{d}{d t} \\phi{\\left(t \\right)} \\frac{d}{d t} \\theta{\\left(t \\right)} + L_{1} m_{3}^{2} \\sin{\\left(\\theta{\\left(t \\right)} \\right)} \\cos^{2}{\\left(\\phi{\\left(t \\right)} - \\theta{\\left(t \\right)} \\right)} \\left(\\frac{d}{d t} \\theta{\\left(t \\right)}\\right)^{2} - L_{1} m_{3}^{2} \\sin{\\left(\\theta{\\left(t \\right)} \\right)} \\cos{\\left(\\phi{\\left(t \\right)} - \\theta{\\left(t \\right)} \\right)} \\cos{\\left(\\phi{\\left(t \\right)} \\right)} \\cos{\\left(\\theta{\\left(t \\right)} \\right)} \\frac{d}{d t} \\phi{\\left(t \\right)} \\frac{d}{d t} \\theta{\\left(t \\right)} + L_{1} m_{3}^{2} \\sin{\\left(\\theta{\\left(t \\right)} \\right)} \\cos^{2}{\\left(\\phi{\\left(t \\right)} \\right)} \\frac{d}{d t} \\phi{\\left(t \\right)} \\frac{d}{d t} \\theta{\\left(t \\right)} - L_{1} m_{3}^{2} \\sin{\\left(\\theta{\\left(t \\right)} \\right)} \\left(\\frac{d}{d t} \\theta{\\left(t \\right)}\\right)^{2} - \\frac{L_{2} m_{2} m_{3} \\left(- \\sin{\\left(\\phi{\\left(t \\right)} - 2 \\theta{\\left(t \\right)} \\right)} + \\sin{\\left(\\phi{\\left(t \\right)} + 2 \\theta{\\left(t \\right)} \\right)}\\right) \\frac{d}{d t} \\phi{\\left(t \\right)} \\frac{d}{d t} \\theta{\\left(t \\right)}}{4} + L_{2} m_{2} m_{3} \\sin{\\left(\\phi{\\left(t \\right)} - \\theta{\\left(t \\right)} \\right)} \\cos{\\left(\\theta{\\left(t \\right)} \\right)} \\left(\\frac{d}{d t} \\phi{\\left(t \\right)}\\right)^{2} - L_{2} m_{2} m_{3} \\sin{\\left(\\phi{\\left(t \\right)} - \\theta{\\left(t \\right)} \\right)} \\cos{\\left(\\theta{\\left(t \\right)} \\right)} \\frac{d}{d t} \\phi{\\left(t \\right)} \\frac{d}{d t} \\theta{\\left(t \\right)} + L_{2} m_{2} m_{3} \\sin{\\left(\\phi{\\left(t \\right)} \\right)} \\cos^{2}{\\left(\\theta{\\left(t \\right)} \\right)} \\frac{d}{d t} \\phi{\\left(t \\right)} \\frac{d}{d t} \\theta{\\left(t \\right)} - L_{2} m_{2} m_{3} \\sin{\\left(\\phi{\\left(t \\right)} \\right)} \\left(\\frac{d}{d t} \\phi{\\left(t \\right)}\\right)^{2} - \\frac{L_{2} m_{3}^{2} \\left(- \\sin{\\left(\\phi{\\left(t \\right)} - 2 \\theta{\\left(t \\right)} \\right)} + \\sin{\\left(\\phi{\\left(t \\right)} + 2 \\theta{\\left(t \\right)} \\right)}\\right) \\frac{d}{d t} \\phi{\\left(t \\right)} \\frac{d}{d t} \\theta{\\left(t \\right)}}{4} - \\frac{L_{2} m_{3}^{2} \\left(\\sin{\\left(\\phi{\\left(t \\right)} - 2 \\theta{\\left(t \\right)} \\right)} + \\sin{\\left(3 \\phi{\\left(t \\right)} - 2 \\theta{\\left(t \\right)} \\right)}\\right) \\left(\\frac{d}{d t} \\phi{\\left(t \\right)}\\right)^{2}}{4} + \\frac{L_{2} m_{3}^{2} \\left(\\sin{\\left(\\phi{\\left(t \\right)} - 2 \\theta{\\left(t \\right)} \\right)} + \\sin{\\left(3 \\phi{\\left(t \\right)} - 2 \\theta{\\left(t \\right)} \\right)}\\right) \\frac{d}{d t} \\phi{\\left(t \\right)} \\frac{d}{d t} \\theta{\\left(t \\right)}}{4} + L_{2} m_{3}^{2} \\sin{\\left(\\phi{\\left(t \\right)} - \\theta{\\left(t \\right)} \\right)} \\cos{\\left(\\theta{\\left(t \\right)} \\right)} \\left(\\frac{d}{d t} \\phi{\\left(t \\right)}\\right)^{2} - L_{2} m_{3}^{2} \\sin{\\left(\\phi{\\left(t \\right)} - \\theta{\\left(t \\right)} \\right)} \\cos{\\left(\\theta{\\left(t \\right)} \\right)} \\frac{d}{d t} \\phi{\\left(t \\right)} \\frac{d}{d t} \\theta{\\left(t \\right)} + L_{2} m_{3}^{2} \\sin{\\left(\\phi{\\left(t \\right)} \\right)} \\cos^{2}{\\left(\\phi{\\left(t \\right)} - \\theta{\\left(t \\right)} \\right)} \\left(\\frac{d}{d t} \\phi{\\left(t \\right)}\\right)^{2} - L_{2} m_{3}^{2} \\sin{\\left(\\phi{\\left(t \\right)} \\right)} \\cos{\\left(\\phi{\\left(t \\right)} - \\theta{\\left(t \\right)} \\right)} \\cos{\\left(\\phi{\\left(t \\right)} \\right)} \\cos{\\left(\\theta{\\left(t \\right)} \\right)} \\frac{d}{d t} \\phi{\\left(t \\right)} \\frac{d}{d t} \\theta{\\left(t \\right)} + L_{2} m_{3}^{2} \\sin{\\left(\\phi{\\left(t \\right)} \\right)} \\cos^{2}{\\left(\\theta{\\left(t \\right)} \\right)} \\frac{d}{d t} \\phi{\\left(t \\right)} \\frac{d}{d t} \\theta{\\left(t \\right)} - L_{2} m_{3}^{2} \\sin{\\left(\\phi{\\left(t \\right)} \\right)} \\left(\\frac{d}{d t} \\phi{\\left(t \\right)}\\right)^{2} + L_{2} m_{3}^{2} \\sin{\\left(\\theta{\\left(t \\right)} \\right)} \\cos{\\left(\\phi{\\left(t \\right)} - \\theta{\\left(t \\right)} \\right)} \\cos^{2}{\\left(\\phi{\\left(t \\right)} \\right)} \\frac{d}{d t} \\phi{\\left(t \\right)} \\frac{d}{d t} \\theta{\\left(t \\right)} - \\frac{g m_{2}^{2} \\sin{\\left(2 \\theta{\\left(t \\right)} \\right)}}{2} + g m_{2} m_{3} \\sin{\\left(\\phi{\\left(t \\right)} \\right)} \\cos{\\left(\\phi{\\left(t \\right)} - \\theta{\\left(t \\right)} \\right)} \\cos{\\left(\\theta{\\left(t \\right)} \\right)} - \\frac{g m_{2} m_{3} \\sin{\\left(2 \\phi{\\left(t \\right)} \\right)}}{2} + g m_{2} m_{3} \\sin{\\left(\\theta{\\left(t \\right)} \\right)} \\cos{\\left(\\phi{\\left(t \\right)} - \\theta{\\left(t \\right)} \\right)} \\cos{\\left(\\phi{\\left(t \\right)} \\right)} - 1.0 g m_{2} m_{3} \\sin{\\left(2 \\theta{\\left(t \\right)} \\right)} + g m_{3}^{2} \\sin{\\left(\\phi{\\left(t \\right)} \\right)} \\cos{\\left(\\phi{\\left(t \\right)} - \\theta{\\left(t \\right)} \\right)} \\cos{\\left(\\theta{\\left(t \\right)} \\right)} - \\frac{g m_{3}^{2} \\sin{\\left(2 \\phi{\\left(t \\right)} \\right)}}{2} + g m_{3}^{2} \\sin{\\left(\\theta{\\left(t \\right)} \\right)} \\cos{\\left(\\phi{\\left(t \\right)} - \\theta{\\left(t \\right)} \\right)} \\cos{\\left(\\phi{\\left(t \\right)} \\right)} - \\frac{g m_{3}^{2} \\sin{\\left(2 \\theta{\\left(t \\right)} \\right)}}{2}\\right)}{- 0.5 m_{1} m_{2} - 0.5 m_{1} m_{3} \\sin^{2}{\\left(\\phi{\\left(t \\right)} \\right)} + 1.0 m_{1} m_{3} \\sin{\\left(\\phi{\\left(t \\right)} \\right)} \\sin{\\left(\\theta{\\left(t \\right)} \\right)} \\cos{\\left(\\phi{\\left(t \\right)} - \\theta{\\left(t \\right)} \\right)} - 0.5 m_{1} m_{3} \\sin^{2}{\\left(\\theta{\\left(t \\right)} \\right)} - 0.5 m_{2}^{2} \\sin^{2}{\\left(\\theta{\\left(t \\right)} \\right)} - 0.5 m_{2} m_{3} \\sin^{2}{\\left(\\theta{\\left(t \\right)} \\right)}}$"
      ],
      "text/plain": [
       "Eq(Derivative(x(t), (t, 2)), 0.5*(-L_1*m_2**2*sin(theta(t))*Derivative(theta(t), t)**2 - L_1*m_2*m_3*(sin(2*phi(t) - 3*theta(t)) + sin(2*phi(t) - theta(t)))*Derivative(phi(t), t)*Derivative(theta(t), t)/4 + L_1*m_2*m_3*(sin(2*phi(t) - 3*theta(t)) + sin(2*phi(t) - theta(t)))*Derivative(theta(t), t)**2/4 - L_1*m_2*m_3*(sin(2*phi(t) - theta(t)) + sin(2*phi(t) + theta(t)))*Derivative(phi(t), t)*Derivative(theta(t), t)/4 + L_1*m_2*m_3*sin(phi(t) - theta(t))*cos(phi(t))*Derivative(phi(t), t)*Derivative(theta(t), t) - L_1*m_2*m_3*sin(phi(t) - theta(t))*cos(phi(t))*Derivative(theta(t), t)**2 + L_1*m_2*m_3*sin(phi(t))*cos(phi(t) - theta(t))*cos(theta(t))**2*Derivative(phi(t), t)*Derivative(theta(t), t) + L_1*m_2*m_3*sin(theta(t))*cos(phi(t) - theta(t))**2*Derivative(theta(t), t)**2 - L_1*m_2*m_3*sin(theta(t))*cos(phi(t) - theta(t))*cos(phi(t))*cos(theta(t))*Derivative(phi(t), t)*Derivative(theta(t), t) + L_1*m_2*m_3*sin(theta(t))*cos(phi(t))**2*Derivative(phi(t), t)*Derivative(theta(t), t) - 2.0*L_1*m_2*m_3*sin(theta(t))*Derivative(theta(t), t)**2 - L_1*m_3**2*(sin(2*phi(t) - 3*theta(t)) + sin(2*phi(t) - theta(t)))*Derivative(phi(t), t)*Derivative(theta(t), t)/4 + L_1*m_3**2*(sin(2*phi(t) - 3*theta(t)) + sin(2*phi(t) - theta(t)))*Derivative(theta(t), t)**2/4 - L_1*m_3**2*(sin(2*phi(t) - theta(t)) + sin(2*phi(t) + theta(t)))*Derivative(phi(t), t)*Derivative(theta(t), t)/4 + L_1*m_3**2*sin(phi(t) - theta(t))*cos(phi(t))*Derivative(phi(t), t)*Derivative(theta(t), t) - L_1*m_3**2*sin(phi(t) - theta(t))*cos(phi(t))*Derivative(theta(t), t)**2 + L_1*m_3**2*sin(phi(t))*cos(phi(t) - theta(t))*cos(theta(t))**2*Derivative(phi(t), t)*Derivative(theta(t), t) + L_1*m_3**2*sin(theta(t))*cos(phi(t) - theta(t))**2*Derivative(theta(t), t)**2 - L_1*m_3**2*sin(theta(t))*cos(phi(t) - theta(t))*cos(phi(t))*cos(theta(t))*Derivative(phi(t), t)*Derivative(theta(t), t) + L_1*m_3**2*sin(theta(t))*cos(phi(t))**2*Derivative(phi(t), t)*Derivative(theta(t), t) - L_1*m_3**2*sin(theta(t))*Derivative(theta(t), t)**2 - L_2*m_2*m_3*(-sin(phi(t) - 2*theta(t)) + sin(phi(t) + 2*theta(t)))*Derivative(phi(t), t)*Derivative(theta(t), t)/4 + L_2*m_2*m_3*sin(phi(t) - theta(t))*cos(theta(t))*Derivative(phi(t), t)**2 - L_2*m_2*m_3*sin(phi(t) - theta(t))*cos(theta(t))*Derivative(phi(t), t)*Derivative(theta(t), t) + L_2*m_2*m_3*sin(phi(t))*cos(theta(t))**2*Derivative(phi(t), t)*Derivative(theta(t), t) - L_2*m_2*m_3*sin(phi(t))*Derivative(phi(t), t)**2 - L_2*m_3**2*(-sin(phi(t) - 2*theta(t)) + sin(phi(t) + 2*theta(t)))*Derivative(phi(t), t)*Derivative(theta(t), t)/4 - L_2*m_3**2*(sin(phi(t) - 2*theta(t)) + sin(3*phi(t) - 2*theta(t)))*Derivative(phi(t), t)**2/4 + L_2*m_3**2*(sin(phi(t) - 2*theta(t)) + sin(3*phi(t) - 2*theta(t)))*Derivative(phi(t), t)*Derivative(theta(t), t)/4 + L_2*m_3**2*sin(phi(t) - theta(t))*cos(theta(t))*Derivative(phi(t), t)**2 - L_2*m_3**2*sin(phi(t) - theta(t))*cos(theta(t))*Derivative(phi(t), t)*Derivative(theta(t), t) + L_2*m_3**2*sin(phi(t))*cos(phi(t) - theta(t))**2*Derivative(phi(t), t)**2 - L_2*m_3**2*sin(phi(t))*cos(phi(t) - theta(t))*cos(phi(t))*cos(theta(t))*Derivative(phi(t), t)*Derivative(theta(t), t) + L_2*m_3**2*sin(phi(t))*cos(theta(t))**2*Derivative(phi(t), t)*Derivative(theta(t), t) - L_2*m_3**2*sin(phi(t))*Derivative(phi(t), t)**2 + L_2*m_3**2*sin(theta(t))*cos(phi(t) - theta(t))*cos(phi(t))**2*Derivative(phi(t), t)*Derivative(theta(t), t) - g*m_2**2*sin(2*theta(t))/2 + g*m_2*m_3*sin(phi(t))*cos(phi(t) - theta(t))*cos(theta(t)) - g*m_2*m_3*sin(2*phi(t))/2 + g*m_2*m_3*sin(theta(t))*cos(phi(t) - theta(t))*cos(phi(t)) - 1.0*g*m_2*m_3*sin(2*theta(t)) + g*m_3**2*sin(phi(t))*cos(phi(t) - theta(t))*cos(theta(t)) - g*m_3**2*sin(2*phi(t))/2 + g*m_3**2*sin(theta(t))*cos(phi(t) - theta(t))*cos(phi(t)) - g*m_3**2*sin(2*theta(t))/2)/(-0.5*m_1*m_2 - 0.5*m_1*m_3*sin(phi(t))**2 + 1.0*m_1*m_3*sin(phi(t))*sin(theta(t))*cos(phi(t) - theta(t)) - 0.5*m_1*m_3*sin(theta(t))**2 - 0.5*m_2**2*sin(theta(t))**2 - 0.5*m_2*m_3*sin(theta(t))**2))"
      ]
     },
     "execution_count": 11,
     "metadata": {},
     "output_type": "execute_result"
    }
   ],
   "source": [
    "eqx_new"
   ]
  },
  {
   "cell_type": "code",
   "execution_count": 12,
   "id": "e4124e62",
   "metadata": {},
   "outputs": [
    {
     "data": {
      "text/latex": [
       "$\\displaystyle \\frac{d^{2}}{d t^{2}} \\theta{\\left(t \\right)} = \\frac{- 0.25 L_{1} m_{1} m_{3} \\sin{\\left(2 \\phi{\\left(t \\right)} - 2 \\theta{\\left(t \\right)} \\right)} \\left(\\frac{d}{d t} \\theta{\\left(t \\right)}\\right)^{2} + 0.25 L_{1} m_{2}^{2} \\sin{\\left(2 \\theta{\\left(t \\right)} \\right)} \\left(\\frac{d}{d t} \\theta{\\left(t \\right)}\\right)^{2} + 0.25 L_{1} m_{2} m_{3} \\sin{\\left(2 \\theta{\\left(t \\right)} \\right)} \\left(\\frac{d}{d t} \\theta{\\left(t \\right)}\\right)^{2} - 0.5 L_{2} m_{1} m_{3} \\sin{\\left(\\phi{\\left(t \\right)} - \\theta{\\left(t \\right)} \\right)} \\left(\\frac{d}{d t} \\phi{\\left(t \\right)}\\right)^{2} - 0.25 L_{2} m_{2} m_{3} \\sin{\\left(\\phi{\\left(t \\right)} - \\theta{\\left(t \\right)} \\right)} \\left(\\frac{d}{d t} \\phi{\\left(t \\right)}\\right)^{2} + 0.25 L_{2} m_{2} m_{3} \\sin{\\left(\\phi{\\left(t \\right)} + \\theta{\\left(t \\right)} \\right)} \\left(\\frac{d}{d t} \\phi{\\left(t \\right)}\\right)^{2} + 0.5 g m_{1} m_{2} \\sin{\\left(\\theta{\\left(t \\right)} \\right)} - 0.25 g m_{1} m_{3} \\sin{\\left(2 \\phi{\\left(t \\right)} - \\theta{\\left(t \\right)} \\right)} + 0.25 g m_{1} m_{3} \\sin{\\left(\\theta{\\left(t \\right)} \\right)} + 0.5 g m_{2}^{2} \\sin{\\left(\\theta{\\left(t \\right)} \\right)} + 0.5 g m_{2} m_{3} \\sin{\\left(\\theta{\\left(t \\right)} \\right)}}{L_{1} \\left(- 0.5 m_{1} m_{2} + 0.25 m_{1} m_{3} \\cos{\\left(2 \\phi{\\left(t \\right)} - 2 \\theta{\\left(t \\right)} \\right)} - 0.25 m_{1} m_{3} + 0.25 m_{2}^{2} \\cos{\\left(2 \\theta{\\left(t \\right)} \\right)} - 0.25 m_{2}^{2} + 0.25 m_{2} m_{3} \\cos{\\left(2 \\theta{\\left(t \\right)} \\right)} - 0.25 m_{2} m_{3}\\right)}$"
      ],
      "text/plain": [
       "Eq(Derivative(theta(t), (t, 2)), (-0.25*L_1*m_1*m_3*sin(2*phi(t) - 2*theta(t))*Derivative(theta(t), t)**2 + 0.25*L_1*m_2**2*sin(2*theta(t))*Derivative(theta(t), t)**2 + 0.25*L_1*m_2*m_3*sin(2*theta(t))*Derivative(theta(t), t)**2 - 0.5*L_2*m_1*m_3*sin(phi(t) - theta(t))*Derivative(phi(t), t)**2 - 0.25*L_2*m_2*m_3*sin(phi(t) - theta(t))*Derivative(phi(t), t)**2 + 0.25*L_2*m_2*m_3*sin(phi(t) + theta(t))*Derivative(phi(t), t)**2 + 0.5*g*m_1*m_2*sin(theta(t)) - 0.25*g*m_1*m_3*sin(2*phi(t) - theta(t)) + 0.25*g*m_1*m_3*sin(theta(t)) + 0.5*g*m_2**2*sin(theta(t)) + 0.5*g*m_2*m_3*sin(theta(t)))/(L_1*(-0.5*m_1*m_2 + 0.25*m_1*m_3*cos(2*phi(t) - 2*theta(t)) - 0.25*m_1*m_3 + 0.25*m_2**2*cos(2*theta(t)) - 0.25*m_2**2 + 0.25*m_2*m_3*cos(2*theta(t)) - 0.25*m_2*m_3)))"
      ]
     },
     "execution_count": 12,
     "metadata": {},
     "output_type": "execute_result"
    }
   ],
   "source": [
    "eqtheta_new"
   ]
  },
  {
   "cell_type": "code",
   "execution_count": 13,
   "id": "6156490d",
   "metadata": {},
   "outputs": [
    {
     "data": {
      "text/latex": [
       "$\\displaystyle \\frac{d^{2}}{d t^{2}} \\phi{\\left(t \\right)} = \\frac{0.5 m_{1} \\cdot \\left(1.0 L_{1} m_{2} \\sin{\\left(\\phi{\\left(t \\right)} - \\theta{\\left(t \\right)} \\right)} \\left(\\frac{d}{d t} \\theta{\\left(t \\right)}\\right)^{2} + 1.0 L_{1} m_{3} \\sin{\\left(\\phi{\\left(t \\right)} - \\theta{\\left(t \\right)} \\right)} \\left(\\frac{d}{d t} \\theta{\\left(t \\right)}\\right)^{2} + 0.5 L_{2} m_{3} \\sin{\\left(2 \\phi{\\left(t \\right)} - 2 \\theta{\\left(t \\right)} \\right)} \\left(\\frac{d}{d t} \\phi{\\left(t \\right)}\\right)^{2} + 0.5 g m_{2} \\sin{\\left(\\phi{\\left(t \\right)} - 2 \\theta{\\left(t \\right)} \\right)} + 0.5 g m_{2} \\sin{\\left(\\phi{\\left(t \\right)} \\right)} + 0.5 g m_{3} \\sin{\\left(\\phi{\\left(t \\right)} - 2 \\theta{\\left(t \\right)} \\right)} + 0.5 g m_{3} \\sin{\\left(\\phi{\\left(t \\right)} \\right)}\\right)}{L_{2} \\left(- 0.5 m_{1} m_{2} + 0.25 m_{1} m_{3} \\cos{\\left(2 \\phi{\\left(t \\right)} - 2 \\theta{\\left(t \\right)} \\right)} - 0.25 m_{1} m_{3} + 0.25 m_{2}^{2} \\cos{\\left(2 \\theta{\\left(t \\right)} \\right)} - 0.25 m_{2}^{2} + 0.25 m_{2} m_{3} \\cos{\\left(2 \\theta{\\left(t \\right)} \\right)} - 0.25 m_{2} m_{3}\\right)}$"
      ],
      "text/plain": [
       "Eq(Derivative(phi(t), (t, 2)), 0.5*m_1*(1.0*L_1*m_2*sin(phi(t) - theta(t))*Derivative(theta(t), t)**2 + 1.0*L_1*m_3*sin(phi(t) - theta(t))*Derivative(theta(t), t)**2 + 0.5*L_2*m_3*sin(2*phi(t) - 2*theta(t))*Derivative(phi(t), t)**2 + 0.5*g*m_2*sin(phi(t) - 2*theta(t)) + 0.5*g*m_2*sin(phi(t)) + 0.5*g*m_3*sin(phi(t) - 2*theta(t)) + 0.5*g*m_3*sin(phi(t)))/(L_2*(-0.5*m_1*m_2 + 0.25*m_1*m_3*cos(2*phi(t) - 2*theta(t)) - 0.25*m_1*m_3 + 0.25*m_2**2*cos(2*theta(t)) - 0.25*m_2**2 + 0.25*m_2*m_3*cos(2*theta(t)) - 0.25*m_2*m_3)))"
      ]
     },
     "execution_count": 13,
     "metadata": {},
     "output_type": "execute_result"
    }
   ],
   "source": [
    "eqphi_new"
   ]
  }
 ],
 "metadata": {
  "kernelspec": {
   "display_name": "Python 3 (ipykernel)",
   "language": "python",
   "name": "python3"
  },
  "language_info": {
   "codemirror_mode": {
    "name": "ipython",
    "version": 3
   },
   "file_extension": ".py",
   "mimetype": "text/x-python",
   "name": "python",
   "nbconvert_exporter": "python",
   "pygments_lexer": "ipython3",
   "version": "3.9.13"
  }
 },
 "nbformat": 4,
 "nbformat_minor": 5
}
