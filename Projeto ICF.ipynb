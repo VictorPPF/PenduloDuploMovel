{
 "cells": [
  {
   "cell_type": "code",
   "execution_count": 51,
   "id": "5d3d6486",
   "metadata": {},
   "outputs": [],
   "source": [
    "import sympy as sy\n",
    "import numpy as np\n",
    "import matplotlib.pyplot as plt"
   ]
  },
  {
   "cell_type": "code",
   "execution_count": 2,
   "id": "17ac7436",
   "metadata": {},
   "outputs": [],
   "source": [
    "t, g = sy.symbols('t g')\n",
    "m1, m2, m3 = sy.symbols('m_1 m_2 m_3')\n",
    "l1, l2 = sy.symbols('L_1 L_2')\n",
    "theta, phi, x = sy.symbols('theta phi x', cls=sy.Function)\n",
    "th = theta(t)\n",
    "ph = phi(t)\n",
    "xt = x(t)"
   ]
  },
  {
   "cell_type": "code",
   "execution_count": 3,
   "id": "10bbf404",
   "metadata": {},
   "outputs": [
    {
     "data": {
      "text/latex": [
       "$\\displaystyle \\frac{d^{2}}{d t^{2}} \\phi{\\left(t \\right)}$"
      ],
      "text/plain": [
       "Derivative(phi(t), (t, 2))"
      ]
     },
     "execution_count": 3,
     "metadata": {},
     "output_type": "execute_result"
    }
   ],
   "source": [
    "thdiff = sy.diff(th, t)\n",
    "phdiff = sy.diff(ph, t)\n",
    "thdiff_2 = sy.diff(thdiff, t)\n",
    "phdiff_2 = sy.diff(phdiff, t)\n",
    "xdiff = sy.diff(xt, t)\n",
    "xdiff_2 = sy.diff(xdiff, t)\n",
    "phdiff_2"
   ]
  },
  {
   "cell_type": "code",
   "execution_count": 4,
   "id": "bd8ae694",
   "metadata": {},
   "outputs": [
    {
     "data": {
      "text/latex": [
       "$\\displaystyle - L_{1} \\cos{\\left(\\theta{\\left(t \\right)} \\right)} - L_{2} \\cos{\\left(\\phi{\\left(t \\right)} \\right)}$"
      ],
      "text/plain": [
       "-L_1*cos(theta(t)) - L_2*cos(phi(t))"
      ]
     },
     "execution_count": 4,
     "metadata": {},
     "output_type": "execute_result"
    }
   ],
   "source": [
    "#Equações de posição\n",
    "x1 = xt\n",
    "x2 = xt + l1*sy.sin(th)\n",
    "y2 = -l1*sy.cos(th)\n",
    "x3 = x2 + l2*sy.sin(ph)\n",
    "y3 = y2 - l2*sy.cos(ph)\n",
    "y3"
   ]
  },
  {
   "cell_type": "code",
   "execution_count": 5,
   "id": "fe4b6a76",
   "metadata": {},
   "outputs": [
    {
     "data": {
      "text/latex": [
       "$\\displaystyle L_{1} g m_{2} \\cos{\\left(\\theta{\\left(t \\right)} \\right)} - g m_{3} \\left(- L_{1} \\cos{\\left(\\theta{\\left(t \\right)} \\right)} - L_{2} \\cos{\\left(\\phi{\\left(t \\right)} \\right)}\\right) + 0.5 m_{1} \\left(\\frac{d}{d t} x{\\left(t \\right)}\\right)^{2} + 0.5 m_{2} \\left(L_{1}^{2} \\sin^{2}{\\left(\\theta{\\left(t \\right)} \\right)} \\left(\\frac{d}{d t} \\theta{\\left(t \\right)}\\right)^{2} + \\left(L_{1} \\cos{\\left(\\theta{\\left(t \\right)} \\right)} \\frac{d}{d t} \\theta{\\left(t \\right)} + \\frac{d}{d t} x{\\left(t \\right)}\\right)^{2}\\right) + 0.5 m_{3} \\left(\\left(L_{1} \\sin{\\left(\\theta{\\left(t \\right)} \\right)} \\frac{d}{d t} \\theta{\\left(t \\right)} + L_{2} \\sin{\\left(\\phi{\\left(t \\right)} \\right)} \\frac{d}{d t} \\phi{\\left(t \\right)}\\right)^{2} + \\left(L_{1} \\cos{\\left(\\theta{\\left(t \\right)} \\right)} \\frac{d}{d t} \\theta{\\left(t \\right)} + L_{2} \\cos{\\left(\\phi{\\left(t \\right)} \\right)} \\frac{d}{d t} \\phi{\\left(t \\right)} + \\frac{d}{d t} x{\\left(t \\right)}\\right)^{2}\\right)$"
      ],
      "text/plain": [
       "L_1*g*m_2*cos(theta(t)) - g*m_3*(-L_1*cos(theta(t)) - L_2*cos(phi(t))) + 0.5*m_1*Derivative(x(t), t)**2 + 0.5*m_2*(L_1**2*sin(theta(t))**2*Derivative(theta(t), t)**2 + (L_1*cos(theta(t))*Derivative(theta(t), t) + Derivative(x(t), t))**2) + 0.5*m_3*((L_1*sin(theta(t))*Derivative(theta(t), t) + L_2*sin(phi(t))*Derivative(phi(t), t))**2 + (L_1*cos(theta(t))*Derivative(theta(t), t) + L_2*cos(phi(t))*Derivative(phi(t), t) + Derivative(x(t), t))**2)"
      ]
     },
     "execution_count": 5,
     "metadata": {},
     "output_type": "execute_result"
    }
   ],
   "source": [
    "#Energia Cinética\n",
    "T1 = 1/2 * m1 * sy.diff(x1, t)**2\n",
    "T2 = 1/2 * m2 * (sy.diff(x2, t)**2 + sy.diff(y2, t)**2)\n",
    "T3 = 1/2 * m3 * (sy.diff(x3, t)**2 + sy.diff(y3, t)**2)\n",
    "T = T1 + T2 + T3\n",
    "#Energia Potencial\n",
    "U1 = m2 * g * y2\n",
    "U2 = m3 * g * y3\n",
    "U = U1 + U2\n",
    "#Lagrangian\n",
    "L = T - U\n",
    "L"
   ]
  },
  {
   "cell_type": "code",
   "execution_count": 7,
   "id": "71a09e45",
   "metadata": {},
   "outputs": [
    {
     "data": {
      "text/latex": [
       "$\\displaystyle - 1.0 m_{1} \\frac{d^{2}}{d t^{2}} x{\\left(t \\right)} - m_{2} \\left(- L_{1} \\sin{\\left(\\theta{\\left(t \\right)} \\right)} \\left(\\frac{d}{d t} \\theta{\\left(t \\right)}\\right)^{2} + L_{1} \\cos{\\left(\\theta{\\left(t \\right)} \\right)} \\frac{d^{2}}{d t^{2}} \\theta{\\left(t \\right)} + \\frac{d^{2}}{d t^{2}} x{\\left(t \\right)}\\right) - m_{3} \\left(- L_{1} \\sin{\\left(\\theta{\\left(t \\right)} \\right)} \\left(\\frac{d}{d t} \\theta{\\left(t \\right)}\\right)^{2} + L_{1} \\cos{\\left(\\theta{\\left(t \\right)} \\right)} \\frac{d^{2}}{d t^{2}} \\theta{\\left(t \\right)} - L_{2} \\sin{\\left(\\phi{\\left(t \\right)} \\right)} \\left(\\frac{d}{d t} \\phi{\\left(t \\right)}\\right)^{2} + L_{2} \\cos{\\left(\\phi{\\left(t \\right)} \\right)} \\frac{d^{2}}{d t^{2}} \\phi{\\left(t \\right)} + \\frac{d^{2}}{d t^{2}} x{\\left(t \\right)}\\right)$"
      ],
      "text/plain": [
       "-1.0*m_1*Derivative(x(t), (t, 2)) - m_2*(-L_1*sin(theta(t))*Derivative(theta(t), t)**2 + L_1*cos(theta(t))*Derivative(theta(t), (t, 2)) + Derivative(x(t), (t, 2))) - m_3*(-L_1*sin(theta(t))*Derivative(theta(t), t)**2 + L_1*cos(theta(t))*Derivative(theta(t), (t, 2)) - L_2*sin(phi(t))*Derivative(phi(t), t)**2 + L_2*cos(phi(t))*Derivative(phi(t), (t, 2)) + Derivative(x(t), (t, 2)))"
      ]
     },
     "execution_count": 7,
     "metadata": {},
     "output_type": "execute_result"
    }
   ],
   "source": [
    "Leq1 = sy.diff(L, xt) - sy.diff(sy.diff(L, xdiff), t).simplify()\n",
    "Leq2 = sy.diff(L, th) - sy.diff(sy.diff(L, thdiff), t).simplify()\n",
    "Leq3 = sy.diff(L, ph) - sy.diff(sy.diff(L, phdiff), t).simplify()\n",
    "Leq1"
   ]
  },
  {
   "cell_type": "code",
   "execution_count": 34,
   "id": "1f6ce3b3",
   "metadata": {},
   "outputs": [],
   "source": [
    "solvx = sy.solve([Leq1, Leq2], (xdiff_2, thdiff_2), rational=False)\n",
    "solvx[thdiff_2] = solvx[thdiff_2].simplify()\n",
    "solvx[xdiff_2] = solvx[xdiff_2].simplify()"
   ]
  },
  {
   "cell_type": "code",
   "execution_count": 35,
   "id": "795101e0",
   "metadata": {},
   "outputs": [],
   "source": [
    "nLeq3 = Leq3.subs({xdiff_2:solvx[xdiff_2]}).simplify()"
   ]
  },
  {
   "cell_type": "code",
   "execution_count": 36,
   "id": "cdd02a4a",
   "metadata": {},
   "outputs": [],
   "source": [
    "phdiff_2new = sy.solve(nLeq3.subs(thdiff_2, solvx[thdiff_2]).simplify(), phdiff_2)[0]"
   ]
  },
  {
   "cell_type": "code",
   "execution_count": 37,
   "id": "da0fc79b",
   "metadata": {},
   "outputs": [],
   "source": [
    "xdiff_2new = solvx[xdiff_2].subs(phdiff_2, phdiff_2new)"
   ]
  },
  {
   "cell_type": "code",
   "execution_count": 40,
   "id": "6bf81c9a",
   "metadata": {},
   "outputs": [],
   "source": [
    "thdiff_2new = solvx[thdiff_2].subs(phdiff_2, phdiff_2new)"
   ]
  },
  {
   "cell_type": "code",
   "execution_count": 55,
   "id": "f80f7548",
   "metadata": {},
   "outputs": [
    {
     "data": {
      "text/latex": [
       "$\\displaystyle \\frac{m_{1} \\cdot \\left(2.0 L_{1} m_{2} \\sin{\\left(\\phi{\\left(t \\right)} - \\theta{\\left(t \\right)} \\right)} \\left(\\frac{d}{d t} \\theta{\\left(t \\right)}\\right)^{2} + 2.0 L_{1} m_{3} \\sin{\\left(\\phi{\\left(t \\right)} - \\theta{\\left(t \\right)} \\right)} \\left(\\frac{d}{d t} \\theta{\\left(t \\right)}\\right)^{2} + L_{2} m_{3} \\sin{\\left(2.0 \\phi{\\left(t \\right)} - 2.0 \\theta{\\left(t \\right)} \\right)} \\left(\\frac{d}{d t} \\phi{\\left(t \\right)}\\right)^{2} + g m_{2} \\sin{\\left(\\phi{\\left(t \\right)} - 2.0 \\theta{\\left(t \\right)} \\right)} + g m_{2} \\sin{\\left(\\phi{\\left(t \\right)} \\right)} + g m_{3} \\sin{\\left(\\phi{\\left(t \\right)} - 2.0 \\theta{\\left(t \\right)} \\right)} + g m_{3} \\sin{\\left(\\phi{\\left(t \\right)} \\right)}\\right)}{L_{2} \\left(- 2.0 m_{1} m_{2} + m_{1} m_{3} \\cos{\\left(2.0 \\phi{\\left(t \\right)} - 2.0 \\theta{\\left(t \\right)} \\right)} - m_{1} m_{3} + m_{2}^{2} \\cos{\\left(2.0 \\theta{\\left(t \\right)} \\right)} - m_{2}^{2} + m_{2} m_{3} \\cos{\\left(2.0 \\theta{\\left(t \\right)} \\right)} - m_{2} m_{3}\\right)}$"
      ],
      "text/plain": [
       "m_1*(2.0*L_1*m_2*sin(phi(t) - theta(t))*Derivative(theta(t), t)**2 + 2.0*L_1*m_3*sin(phi(t) - theta(t))*Derivative(theta(t), t)**2 + L_2*m_3*sin(2.0*phi(t) - 2.0*theta(t))*Derivative(phi(t), t)**2 + g*m_2*sin(phi(t) - 2.0*theta(t)) + g*m_2*sin(phi(t)) + g*m_3*sin(phi(t) - 2.0*theta(t)) + g*m_3*sin(phi(t)))/(L_2*(-2.0*m_1*m_2 + m_1*m_3*cos(2.0*phi(t) - 2.0*theta(t)) - m_1*m_3 + m_2**2*cos(2.0*theta(t)) - m_2**2 + m_2*m_3*cos(2.0*theta(t)) - m_2*m_3))"
      ]
     },
     "execution_count": 55,
     "metadata": {},
     "output_type": "execute_result"
    }
   ],
   "source": [
    "phdiff_2new"
   ]
  },
  {
   "cell_type": "code",
   "execution_count": 45,
   "id": "70ebca20",
   "metadata": {},
   "outputs": [
    {
     "data": {
      "text/plain": [
       "-8.511881624200793"
      ]
     },
     "execution_count": 45,
     "metadata": {},
     "output_type": "execute_result"
    }
   ],
   "source": [
    "#Recebendo valores numéricos\n",
    "dz1dt_f = sy.lambdify((t, g, m1, m2, m3, l1, l2, x, th, ph, xdiff, thdiff, phdiff), xdiff_2new)\n",
    "dz2dt_f = sy.lambdify((t, g, m1, m2, m3, l1, l2, x, th, ph, xdiff, thdiff, phdiff), thdiff_2new)\n",
    "dz3dt_f = sy.lambdify((t, g, m1, m2, m3, l1, l2, x, th, ph, xdiff, thdiff, phdiff), phdiff_2new)\n",
    "dxdt_f = sy.lambdify(xdiff, xdiff)\n",
    "dth1dt_f = sy.lambdify(thdiff, thdiff) #Apenas uma função identidade\n",
    "dth2dt_f = sy.lambdify(phdiff, phdiff)\n",
    "dz1dt_f(2, 9.81, 1, 1, 1, 1, 1, 2, 4, 2, 2, 5, 3)"
   ]
  },
  {
   "cell_type": "code",
   "execution_count": 49,
   "id": "16eea8c1",
   "metadata": {},
   "outputs": [],
   "source": [
    "def dSdt(S, t, g, m1, m2, m3, l1, l2):\n",
    "    x, th, ph, z1, z2, z3 = S\n",
    "    return [dxdt_f(z1), dz1dt_f(t, g, m1, m2, m3, l1, l2, x, th, ph, z1, z2, z3),\n",
    "            dth1dt_f(z2), dz2dt_f(t, g, m1, m2, m3, l1, l2, x, th, ph, z1, z2, z3),\n",
    "           dth2dt_f(z3), dz3dt_f(t, g, m1, m2, m3, l1, l2, x, th, ph, z1, z2, z3)]\n"
   ]
  },
  {
   "cell_type": "code",
   "execution_count": 50,
   "id": "d99e6185",
   "metadata": {},
   "outputs": [
    {
     "name": "stderr",
     "output_type": "stream",
     "text": [
      "C:\\Users\\skywa\\anaconda3\\lib\\site-packages\\scipy\\integrate\\_odepack_py.py:247: ODEintWarning: Excess work done on this call (perhaps wrong Dfun type). Run with full_output = 1 to get quantitative information.\n",
      "  warnings.warn(warning_msg, ODEintWarning)\n"
     ]
    },
    {
     "data": {
      "text/plain": [
       "array([0.  , 0.04, 0.08, 0.12, 0.16, 0.2 , 0.24, 0.28, 0.32, 0.36, 0.4 ,\n",
       "       0.44, 0.48, 0.52, 0.56, 0.6 , 0.64, 0.68, 0.72, 0.76, 0.8 , 0.84,\n",
       "       0.88, 0.92, 0.96])"
      ]
     },
     "execution_count": 50,
     "metadata": {},
     "output_type": "execute_result"
    }
   ],
   "source": [
    "from scipy.integrate import odeint\n",
    "tl = np.linspace(0, 40, 1001)\n",
    "g = 9.81\n",
    "m1 = 1\n",
    "m2 = 1\n",
    "m3 = 2\n",
    "l1 = 2\n",
    "l2 = 1\n",
    "x = 0\n",
    "ans = odeint(dSdt, y0=[1, -3, -1, 5, 2, 3], t=tl, args=(g,m1,m2,m3,l1,l2))\n",
    "tl[tl<1] #25 frames por segundo"
   ]
  },
  {
   "cell_type": "code",
   "execution_count": 54,
   "id": "0d59c96a",
   "metadata": {},
   "outputs": [
    {
     "data": {
      "text/plain": [
       "[<matplotlib.lines.Line2D at 0x19bf97c9220>]"
      ]
     },
     "execution_count": 54,
     "metadata": {},
     "output_type": "execute_result"
    },
    {
     "data": {
      "image/png": "[encoded data removed]",
      "text/plain": [
       "<Figure size 640x480 with 1 Axes>"
      ]
     },
     "metadata": {},
     "output_type": "display_data"
    }
   ],
   "source": [
    "th1 = ans.T[0]\n",
    "th2 = ans.T[2]\n",
    "plt.plot(tl, th2)"
   ]
  },
  {
   "cell_type": "code",
   "execution_count": null,
   "id": "c68bc949",
   "metadata": {},
   "outputs": [],
   "source": []
  }
 ],
 "metadata": {
  "kernelspec": {
   "display_name": "Python 3 (ipykernel)",
   "language": "python",
   "name": "python3"
  },
  "language_info": {
   "codemirror_mode": {
    "name": "ipython",
    "version": 3
   },
   "file_extension": ".py",
   "mimetype": "text/x-python",
   "name": "python",
   "nbconvert_exporter": "python",
   "pygments_lexer": "ipython3",
   "version": "3.9.13"
  }
 },
 "nbformat": 4,
 "nbformat_minor": 5
}
